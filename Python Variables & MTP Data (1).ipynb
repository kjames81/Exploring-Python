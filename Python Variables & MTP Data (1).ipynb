{
 "cells": [
  {
   "cell_type": "markdown",
   "metadata": {},
   "source": [
    "#### Content\n",
    "This notebook contains information regarding python variable types and well as the current state of the data for the Match-to-Place task. \n",
    "#### Purpose\n",
    "This notebook will guide the data-storing and later analysis process of the Match-to-place paper. \n",
    "#### Objectives\n",
    "- Describe the different python variable types\n",
    "- Describe how to story x-y corrdinates/arrays of different lengths within one variable \n",
    "- Describe how the current match to place data is organized "
   ]
  },
  {
   "cell_type": "markdown",
   "metadata": {},
   "source": [
    "## Python Variable Types \n",
    "### Standard Data Types\n",
    "1) Numbers\n",
    "- integers (int)"
   ]
  },
  {
   "cell_type": "code",
   "execution_count": 1,
   "metadata": {},
   "outputs": [
    {
     "name": "stdout",
     "output_type": "stream",
     "text": [
      "10\n"
     ]
    }
   ],
   "source": [
    "int1= 10\n",
    "print int1"
   ]
  },
  {
   "cell_type": "markdown",
   "metadata": {},
   "source": [
    "- long integers (long)"
   ]
  },
  {
   "cell_type": "code",
   "execution_count": 2,
   "metadata": {},
   "outputs": [
    {
     "name": "stdout",
     "output_type": "stream",
     "text": [
      "82\n"
     ]
    }
   ],
   "source": [
    "long1= 0122L\n",
    "print long1"
   ]
  },
  {
   "cell_type": "markdown",
   "metadata": {},
   "source": [
    "- floating point (float)"
   ]
  },
  {
   "cell_type": "code",
   "execution_count": 3,
   "metadata": {},
   "outputs": [
    {
     "name": "stdout",
     "output_type": "stream",
     "text": [
      "35.75\n"
     ]
    }
   ],
   "source": [
    "float1=35.75\n",
    "print float1"
   ]
  },
  {
   "cell_type": "markdown",
   "metadata": {},
   "source": [
    "- complex numbers (complex)"
   ]
  },
  {
   "cell_type": "code",
   "execution_count": 4,
   "metadata": {},
   "outputs": [
    {
     "name": "stdout",
     "output_type": "stream",
     "text": [
      "3.14j\n"
     ]
    }
   ],
   "source": [
    "complex1=3.14j\n",
    "print complex1"
   ]
  },
  {
   "cell_type": "markdown",
   "metadata": {},
   "source": [
    "2) String \n",
    "- a contiguous set of characters represeneted in  the quotation marks"
   ]
  },
  {
   "cell_type": "code",
   "execution_count": 5,
   "metadata": {},
   "outputs": [
    {
     "name": "stdout",
     "output_type": "stream",
     "text": [
      "Hello Jupyter!\n"
     ]
    }
   ],
   "source": [
    "string1= 'Hello Jupyter!'\n",
    "print string1"
   ]
  },
  {
   "cell_type": "code",
   "execution_count": 6,
   "metadata": {},
   "outputs": [
    {
     "name": "stdout",
     "output_type": "stream",
     "text": [
      "Hello\n"
     ]
    }
   ],
   "source": [
    "string2= string1[0:5]\n",
    "print string2"
   ]
  },
  {
   "cell_type": "code",
   "execution_count": 7,
   "metadata": {},
   "outputs": [
    {
     "name": "stdout",
     "output_type": "stream",
     "text": [
      "Hello Jupyter!Hello Jupyter!Hello Jupyter!Hello Jupyter!\n"
     ]
    }
   ],
   "source": [
    "string3= string1*4\n",
    "print string3"
   ]
  },
  {
   "cell_type": "markdown",
   "metadata": {},
   "source": [
    "3) List\n",
    "- contains items separated by commas and enclosed within square brackets\n",
    "- may contain different data types\n",
    "- size and elements can be changed (mutable)"
   ]
  },
  {
   "cell_type": "code",
   "execution_count": 8,
   "metadata": {},
   "outputs": [
    {
     "name": "stdout",
     "output_type": "stream",
     "text": [
      "['a', 'b', 4, 5.5, 39j]\n"
     ]
    }
   ],
   "source": [
    "list1= ['a','b', 4, 5.5, 39j]\n",
    "print list1"
   ]
  },
  {
   "cell_type": "code",
   "execution_count": 9,
   "metadata": {},
   "outputs": [
    {
     "name": "stdout",
     "output_type": "stream",
     "text": [
      "['a', 'b', 4]\n"
     ]
    }
   ],
   "source": [
    "list2= list1[0:3]\n",
    "print list2"
   ]
  },
  {
   "cell_type": "markdown",
   "metadata": {},
   "source": [
    "4) Tuples\n",
    "- contains items separated by commas and enclosed within parenthesis\n",
    "- may contain different data types\n",
    "- size and elements cannot be updated "
   ]
  },
  {
   "cell_type": "code",
   "execution_count": 10,
   "metadata": {},
   "outputs": [
    {
     "name": "stdout",
     "output_type": "stream",
     "text": [
      "('a', 'b', 4, 5.5, 39j)\n"
     ]
    }
   ],
   "source": [
    " tuple1=('a', 'b', 4, 5.5, 39j)\n",
    " print tuple1        "
   ]
  },
  {
   "cell_type": "markdown",
   "metadata": {},
   "source": [
    "5) Dictionary\n",
    "- consist of key-value pairs \n",
    "- keys usually consist of numbers or strings, but values can be any data type "
   ]
  },
  {
   "cell_type": "code",
   "execution_count": 11,
   "metadata": {},
   "outputs": [
    {
     "name": "stdout",
     "output_type": "stream",
     "text": [
      "{1: 'value 1', 'two': 2}\n"
     ]
    }
   ],
   "source": [
    "dictionary1={}\n",
    "dictionary1[1]= 'value 1'\n",
    "dictionary1[\"two\"]= 2\n",
    "print dictionary1"
   ]
  },
  {
   "cell_type": "markdown",
   "metadata": {},
   "source": [
    "## Storing Data in Python \n",
    "### Arrays of different lengths \n",
    "The simplest way to store arrays of different lengths is to use a nested list. \n",
    "Each cell can contain a number of other cells. "
   ]
  },
  {
   "cell_type": "code",
   "execution_count": 2,
   "metadata": {},
   "outputs": [
    {
     "name": "stdout",
     "output_type": "stream",
     "text": [
      "['a', 'b', [1, 2, 3], 'c', 'd']\n"
     ]
    }
   ],
   "source": [
    "nlist1= ['a', 'b', [1,2,3],'c','d']\n",
    "print nlist1"
   ]
  },
  {
   "cell_type": "markdown",
   "metadata": {},
   "source": [
    "To access the information, use multiple sets of brackets. The first will include the cell number within the list, moving into the nest. For example: "
   ]
  },
  {
   "cell_type": "code",
   "execution_count": 5,
   "metadata": {},
   "outputs": [
    {
     "name": "stdout",
     "output_type": "stream",
     "text": [
      "[1, 2, 3]\n"
     ]
    }
   ],
   "source": [
    "print(nlist1[2])\n"
   ]
  },
  {
   "cell_type": "code",
   "execution_count": 6,
   "metadata": {},
   "outputs": [
    {
     "name": "stdout",
     "output_type": "stream",
     "text": [
      "2\n"
     ]
    }
   ],
   "source": [
    "print(nlist1[2][1])"
   ]
  },
  {
   "cell_type": "markdown",
   "metadata": {},
   "source": [
    "## Match to Place Data\n",
    "### Current organizational state \n",
    "\n",
    "The entirety of the Match-to-Place data can be located in [Google Drive](https://drive.google.com/drive/u/0/folders/1XXZf96sQOp1Cb-sntDWqwk7qzfI6vml2)\n",
    "\n",
    "The data is organized by time point (rat's age group), indicated by the general folder is it located in. \n",
    "\n",
    "- Timepoint 1: -- months\n",
    "- Timepoint 2: -- months \n",
    "- Timpooint 3: -- months \n",
    "\n",
    "Within each timepoint folder, there is an individual file for each rat on each day for each trial.\n",
    "Example file name : \"day1t1_001.csv\"\n",
    "\n",
    "There are a total of 28 rats who completed 4 tasks. The trial numbers vary by task. \n",
    "\n",
    "* Task 1: Reference Memory (Standard Morris Water Maze) \n",
    "    - Day 1-5 \n",
    "    - Total of 20 Trials \n",
    "* Task 2: Probe Test\n",
    "    - Day 6 \n",
    "    - Total of 1 Trial\n",
    "* Task 3: Match to Place Test\n",
    "    - Day 7-11\n",
    "    - Total of 10 trials, 2 trials per platform location\n",
    "* Task 4: Cued Task\n",
    "    - Day 12\n",
    "    - Total of 8 trials \n",
    "    \n",
    "### CSV Information\n",
    "Each CSV file is organized the same way. \n",
    "The timepoint of the trial is derived from the folder name or the first headerline. \n",
    "The trials were recorded at 10 Hz (10 recordings/sec). \n",
    "There are 5 headerlines. \n",
    "- 1) Timepoint\n",
    "- 2) Sample\n",
    "- 3) Rat ID\n",
    "- 4) Trial Number\n",
    "- 5) Column headers\n",
    "The column headers are: {Sample TS X Y}. \n",
    "The first sample is recorded at time 0. \n",
    "\n"
   ]
  }
 ],
 "metadata": {
  "kernelspec": {
   "display_name": "Python 2",
   "language": "python",
   "name": "python2"
  },
  "language_info": {
   "codemirror_mode": {
    "name": "ipython",
    "version": 2
   },
   "file_extension": ".py",
   "mimetype": "text/x-python",
   "name": "python",
   "nbconvert_exporter": "python",
   "pygments_lexer": "ipython2",
   "version": "2.7.16"
  }
 },
 "nbformat": 4,
 "nbformat_minor": 2
}
